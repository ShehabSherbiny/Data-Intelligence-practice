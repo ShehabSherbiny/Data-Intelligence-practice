{
 "cells": [
  {
   "cell_type": "markdown",
   "metadata": {},
   "source": [
    "# Data Intelligence exam\n",
    "### IT University of Copenhagen - Spring semester 2021\n",
    "Student B | bbb@itu.dk | 25/5/2021 || Teacher: Jens Gwen Stein | jeej@itu.dk || Course code: BBDAINT1KU"
   ]
  },
  {
   "cell_type": "markdown",
   "metadata": {},
   "source": [
    "## Introduction\n",
    "\n",
    "In this paper, I will investigate the provided data-set \"rentals.csv\". I will firstly explore and describe the data to get an inital understanding of and contextualize the data-set. Based on the data, I will then pose a research question and form an initial hypothesis about what I expect the outcome to be. In the data preparation and cleaning section I will then leverage the technical and conceptual tools presented in the Data Intelligence course to prepare and clean the data. Furthermore, I will analyse the given data set with the aim of validating or falsifying my hypothesis. Based on my findings in the analysis part, I will discuss and potentially revise my hypothesis, before conlcuding the report as well as discuss potential limitations and other reflections."
   ]
  },
  {
   "cell_type": "markdown",
   "metadata": {},
   "source": [
    "#### Libraries\n",
    "\n",
    "In order to perform a coherent analysis of the data including data visualizations it is important that suitable libraries are installed.\n",
    "\n",
    "**pandas:**\n",
    "Pandas is a software library used for the Python programming language which, when installed, offers data structures that enable the user to manipulate and analyse data utilizing large arrays.\n",
    "\n",
    "**matplotlib:**\n",
    "Matplotlib is a library that enables basic data visualizations in Python. Those visualizations can take a variety of forms like bar charts, line charts, pie charts and scatter plots etc.  \n",
    "\n",
    "**seaborn:**\n",
    "Seaborn is a data visualization library built on top of matplotlib. It provides a larger variety of visualization patterns than matplotlib as well as fewer syntax.\n",
    "\n",
    "**numpy:** \n",
    "Numpy is a library used for general array-processing in Python which works well with pandas. I might need to use numpy in the data cleaning section in oder to get the np.nan value.\n",
    "\n",
    "**sklearn:** \n",
    "Sklearn is a library for machine learning in Python providing tools for machine learning and statistical modeling. This, among others, includes classification, regression and clustering tools which I will apply in the analysis section."
   ]
  },
  {
   "cell_type": "code",
   "execution_count": 1,
   "metadata": {},
   "outputs": [
    {
     "name": "stdout",
     "output_type": "stream",
     "text": [
      "Requirement already up-to-date: pandas in ./opt/anaconda3/lib/python3.8/site-packages (1.2.4)\n",
      "Requirement already up-to-date: scikit-learn in ./opt/anaconda3/lib/python3.8/site-packages (0.24.2)\n",
      "Requirement already up-to-date: matplotlib in ./opt/anaconda3/lib/python3.8/site-packages (3.4.2)\n",
      "Requirement already up-to-date: scipy in ./opt/anaconda3/lib/python3.8/site-packages (1.6.3)\n",
      "Requirement already up-to-date: delayed in ./opt/anaconda3/lib/python3.8/site-packages (0.11.0b1)\n",
      "Requirement already satisfied, skipping upgrade: python-dateutil>=2.7.3 in ./opt/anaconda3/lib/python3.8/site-packages (from pandas) (2.8.1)\n",
      "Requirement already satisfied, skipping upgrade: pytz>=2017.3 in ./opt/anaconda3/lib/python3.8/site-packages (from pandas) (2020.1)\n",
      "Requirement already satisfied, skipping upgrade: numpy>=1.16.5 in ./opt/anaconda3/lib/python3.8/site-packages (from pandas) (1.19.2)\n",
      "Requirement already satisfied, skipping upgrade: joblib>=0.11 in ./opt/anaconda3/lib/python3.8/site-packages (from scikit-learn) (0.17.0)\n",
      "Requirement already satisfied, skipping upgrade: threadpoolctl>=2.0.0 in ./opt/anaconda3/lib/python3.8/site-packages (from scikit-learn) (2.1.0)\n",
      "Requirement already satisfied, skipping upgrade: pyparsing>=2.2.1 in ./opt/anaconda3/lib/python3.8/site-packages (from matplotlib) (2.4.7)\n",
      "Requirement already satisfied, skipping upgrade: cycler>=0.10 in ./opt/anaconda3/lib/python3.8/site-packages (from matplotlib) (0.10.0)\n",
      "Requirement already satisfied, skipping upgrade: pillow>=6.2.0 in ./opt/anaconda3/lib/python3.8/site-packages (from matplotlib) (8.0.1)\n",
      "Requirement already satisfied, skipping upgrade: kiwisolver>=1.0.1 in ./opt/anaconda3/lib/python3.8/site-packages (from matplotlib) (1.3.0)\n",
      "Requirement already satisfied, skipping upgrade: redis in ./opt/anaconda3/lib/python3.8/site-packages (from delayed) (3.5.3)\n",
      "Requirement already satisfied, skipping upgrade: hiredis in ./opt/anaconda3/lib/python3.8/site-packages (from delayed) (2.0.0)\n",
      "Requirement already satisfied, skipping upgrade: six>=1.5 in ./opt/anaconda3/lib/python3.8/site-packages (from python-dateutil>=2.7.3->pandas) (1.15.0)\n"
     ]
    }
   ],
   "source": [
    "#installing needed libraries\n",
    "!pip install -U pandas scikit-learn matplotlib scipy delayed\n",
    "\n",
    "#import of all relevant libraries and packages\n",
    "import pandas as pd\n",
    "import matplotlib.pyplot as plt\n",
    "import seaborn as sns\n",
    "import numpy as np\n",
    "from sklearn.model_selection import train_test_split\n",
    "import sklearn.linear_model\n",
    "import sklearn.ensemble\n",
    "import sklearn.metrics"
   ]
  },
  {
   "cell_type": "markdown",
   "metadata": {},
   "source": [
    "## Data exploration\n",
    "\n",
    "In this section, I will load the data-set and inspect parts of the data in order to get a better understanding of the variables the data-set consists of. I will describe my findings in the descriptions of the data section before posing my initial hypothesis. "
   ]
  },
  {
   "cell_type": "code",
   "execution_count": 2,
   "metadata": {},
   "outputs": [
    {
     "name": "stdout",
     "output_type": "stream",
     "text": [
      "id,name,host_id,host_name,neighbourhood_group,neighbourhood,latitude,longitude,room_type,price,minimum_nights,number_of_reviews,last_review,reviews_per_month,calculated_host_listings_count,availability_365\r\n",
      "2539,Clean & quiet apt home by the park,2787,John,Brooklyn,Kensington,40.64749,-73.97237,Private room,149,1,9,2018-10-19,0.21,6,365\r\n",
      "2595,Skylit Midtown Castle,2845,Jennifer,Manhattan,Midtown,40.75362,-73.98377,Entire home/apt,225,1,45,2019-05-21,0.38,2,355\r\n",
      "3647,THE VILLAGE OF HARLEM....NEW YORK !,4632,Elisabeth,Manhattan,Harlem,40.80902,-73.9419,Private room,150,3,0,,,1,365\r\n",
      "3831,Cozy Entire Floor of Brownstone,4869,LisaRoxanne,Brooklyn,Clinton Hill,40.68514,-73.95976,Entire home/apt,89,1,270,2019-07-05,4.64,1,194\r\n",
      "5022,Entire Apt: Spacious Studio/Loft by central park,7192,Laura,Manhattan,East Harlem,40.79851,-73.94399,Entire home/apt,80,10,9,2018-11-19,0.10,1,0\r\n",
      "5099,Large Cozy 1 BR Apartment In Midtown East,7322,Chris,Manhattan,Murray Hill,40.74767,-73.975,Entire home/apt,200,3,74,2019-06-22,0.59,1,129\r\n",
      "5121,BlissArtsSpace!,7356,Garon,Brooklyn,Bedford-Stuyvesant,40.68688,-73.95596,Private room,60,45,49,2017-10-05,0.40,1,0\r\n",
      "5178,Large Furnished Room Near B'way ,8967,Shunichi,Manhattan,Hell's Kitchen,40.76489,-73.98493,Private room,79,2,430,2019-06-24,3.47,1,220\r\n",
      "5203,Cozy Clean Guest Room - Family Apt,7490,MaryEllen,Manhattan,Upper West Side,40.80178,-73.96723,Private room,79,2,118,2017-07-21,0.99,1,0\r\n"
     ]
    }
   ],
   "source": [
    "#load the data set \n",
    "!head -n10 rentals.csv"
   ]
  },
  {
   "cell_type": "code",
   "execution_count": 3,
   "metadata": {},
   "outputs": [],
   "source": [
    "def load_data(path):\n",
    "    return pd.read_csv(path)"
   ]
  },
  {
   "cell_type": "code",
   "execution_count": 4,
   "metadata": {},
   "outputs": [],
   "source": [
    "#load dataset\n",
    "df = load_data(\"rentals.csv\")"
   ]
  },
  {
   "cell_type": "code",
   "execution_count": 5,
   "metadata": {},
   "outputs": [
    {
     "data": {
      "text/html": [
       "<div>\n",
       "<style scoped>\n",
       "    .dataframe tbody tr th:only-of-type {\n",
       "        vertical-align: middle;\n",
       "    }\n",
       "\n",
       "    .dataframe tbody tr th {\n",
       "        vertical-align: top;\n",
       "    }\n",
       "\n",
       "    .dataframe thead th {\n",
       "        text-align: right;\n",
       "    }\n",
       "</style>\n",
       "<table border=\"1\" class=\"dataframe\">\n",
       "  <thead>\n",
       "    <tr style=\"text-align: right;\">\n",
       "      <th></th>\n",
       "      <th>id</th>\n",
       "      <th>name</th>\n",
       "      <th>host_id</th>\n",
       "      <th>host_name</th>\n",
       "      <th>neighbourhood_group</th>\n",
       "      <th>neighbourhood</th>\n",
       "      <th>latitude</th>\n",
       "      <th>longitude</th>\n",
       "      <th>room_type</th>\n",
       "      <th>price</th>\n",
       "      <th>minimum_nights</th>\n",
       "      <th>number_of_reviews</th>\n",
       "      <th>last_review</th>\n",
       "      <th>reviews_per_month</th>\n",
       "      <th>calculated_host_listings_count</th>\n",
       "      <th>availability_365</th>\n",
       "    </tr>\n",
       "  </thead>\n",
       "  <tbody>\n",
       "    <tr>\n",
       "      <th>0</th>\n",
       "      <td>2539</td>\n",
       "      <td>Clean &amp; quiet apt home by the park</td>\n",
       "      <td>2787</td>\n",
       "      <td>John</td>\n",
       "      <td>Brooklyn</td>\n",
       "      <td>Kensington</td>\n",
       "      <td>40.64749</td>\n",
       "      <td>-73.97237</td>\n",
       "      <td>Private room</td>\n",
       "      <td>149</td>\n",
       "      <td>1</td>\n",
       "      <td>9</td>\n",
       "      <td>2018-10-19</td>\n",
       "      <td>0.21</td>\n",
       "      <td>6</td>\n",
       "      <td>365</td>\n",
       "    </tr>\n",
       "    <tr>\n",
       "      <th>1</th>\n",
       "      <td>2595</td>\n",
       "      <td>Skylit Midtown Castle</td>\n",
       "      <td>2845</td>\n",
       "      <td>Jennifer</td>\n",
       "      <td>Manhattan</td>\n",
       "      <td>Midtown</td>\n",
       "      <td>40.75362</td>\n",
       "      <td>-73.98377</td>\n",
       "      <td>Entire home/apt</td>\n",
       "      <td>225</td>\n",
       "      <td>1</td>\n",
       "      <td>45</td>\n",
       "      <td>2019-05-21</td>\n",
       "      <td>0.38</td>\n",
       "      <td>2</td>\n",
       "      <td>355</td>\n",
       "    </tr>\n",
       "    <tr>\n",
       "      <th>2</th>\n",
       "      <td>3647</td>\n",
       "      <td>THE VILLAGE OF HARLEM....NEW YORK !</td>\n",
       "      <td>4632</td>\n",
       "      <td>Elisabeth</td>\n",
       "      <td>Manhattan</td>\n",
       "      <td>Harlem</td>\n",
       "      <td>40.80902</td>\n",
       "      <td>-73.94190</td>\n",
       "      <td>Private room</td>\n",
       "      <td>150</td>\n",
       "      <td>3</td>\n",
       "      <td>0</td>\n",
       "      <td>NaN</td>\n",
       "      <td>NaN</td>\n",
       "      <td>1</td>\n",
       "      <td>365</td>\n",
       "    </tr>\n",
       "    <tr>\n",
       "      <th>3</th>\n",
       "      <td>3831</td>\n",
       "      <td>Cozy Entire Floor of Brownstone</td>\n",
       "      <td>4869</td>\n",
       "      <td>LisaRoxanne</td>\n",
       "      <td>Brooklyn</td>\n",
       "      <td>Clinton Hill</td>\n",
       "      <td>40.68514</td>\n",
       "      <td>-73.95976</td>\n",
       "      <td>Entire home/apt</td>\n",
       "      <td>89</td>\n",
       "      <td>1</td>\n",
       "      <td>270</td>\n",
       "      <td>2019-07-05</td>\n",
       "      <td>4.64</td>\n",
       "      <td>1</td>\n",
       "      <td>194</td>\n",
       "    </tr>\n",
       "    <tr>\n",
       "      <th>4</th>\n",
       "      <td>5022</td>\n",
       "      <td>Entire Apt: Spacious Studio/Loft by central park</td>\n",
       "      <td>7192</td>\n",
       "      <td>Laura</td>\n",
       "      <td>Manhattan</td>\n",
       "      <td>East Harlem</td>\n",
       "      <td>40.79851</td>\n",
       "      <td>-73.94399</td>\n",
       "      <td>Entire home/apt</td>\n",
       "      <td>80</td>\n",
       "      <td>10</td>\n",
       "      <td>9</td>\n",
       "      <td>2018-11-19</td>\n",
       "      <td>0.10</td>\n",
       "      <td>1</td>\n",
       "      <td>0</td>\n",
       "    </tr>\n",
       "  </tbody>\n",
       "</table>\n",
       "</div>"
      ],
      "text/plain": [
       "     id                                              name  host_id  \\\n",
       "0  2539                Clean & quiet apt home by the park     2787   \n",
       "1  2595                             Skylit Midtown Castle     2845   \n",
       "2  3647               THE VILLAGE OF HARLEM....NEW YORK !     4632   \n",
       "3  3831                   Cozy Entire Floor of Brownstone     4869   \n",
       "4  5022  Entire Apt: Spacious Studio/Loft by central park     7192   \n",
       "\n",
       "     host_name neighbourhood_group neighbourhood  latitude  longitude  \\\n",
       "0         John            Brooklyn    Kensington  40.64749  -73.97237   \n",
       "1     Jennifer           Manhattan       Midtown  40.75362  -73.98377   \n",
       "2    Elisabeth           Manhattan        Harlem  40.80902  -73.94190   \n",
       "3  LisaRoxanne            Brooklyn  Clinton Hill  40.68514  -73.95976   \n",
       "4        Laura           Manhattan   East Harlem  40.79851  -73.94399   \n",
       "\n",
       "         room_type  price  minimum_nights  number_of_reviews last_review  \\\n",
       "0     Private room    149               1                  9  2018-10-19   \n",
       "1  Entire home/apt    225               1                 45  2019-05-21   \n",
       "2     Private room    150               3                  0         NaN   \n",
       "3  Entire home/apt     89               1                270  2019-07-05   \n",
       "4  Entire home/apt     80              10                  9  2018-11-19   \n",
       "\n",
       "   reviews_per_month  calculated_host_listings_count  availability_365  \n",
       "0               0.21                               6               365  \n",
       "1               0.38                               2               355  \n",
       "2                NaN                               1               365  \n",
       "3               4.64                               1               194  \n",
       "4               0.10                               1                 0  "
      ]
     },
     "execution_count": 5,
     "metadata": {},
     "output_type": "execute_result"
    }
   ],
   "source": [
    "# view the first few lines of the data-set\n",
    "df.head()"
   ]
  },
  {
   "cell_type": "code",
   "execution_count": 6,
   "metadata": {},
   "outputs": [
    {
     "name": "stdout",
     "output_type": "stream",
     "text": [
      "<class 'pandas.core.frame.DataFrame'>\n",
      "RangeIndex: 48895 entries, 0 to 48894\n",
      "Data columns (total 16 columns):\n",
      " #   Column                          Non-Null Count  Dtype  \n",
      "---  ------                          --------------  -----  \n",
      " 0   id                              48895 non-null  int64  \n",
      " 1   name                            48879 non-null  object \n",
      " 2   host_id                         48895 non-null  int64  \n",
      " 3   host_name                       48874 non-null  object \n",
      " 4   neighbourhood_group             48895 non-null  object \n",
      " 5   neighbourhood                   48895 non-null  object \n",
      " 6   latitude                        48895 non-null  float64\n",
      " 7   longitude                       48895 non-null  float64\n",
      " 8   room_type                       48895 non-null  object \n",
      " 9   price                           48895 non-null  int64  \n",
      " 10  minimum_nights                  48895 non-null  int64  \n",
      " 11  number_of_reviews               48895 non-null  int64  \n",
      " 12  last_review                     38843 non-null  object \n",
      " 13  reviews_per_month               38843 non-null  float64\n",
      " 14  calculated_host_listings_count  48895 non-null  int64  \n",
      " 15  availability_365                48895 non-null  int64  \n",
      "dtypes: float64(3), int64(7), object(6)\n",
      "memory usage: 6.0+ MB\n"
     ]
    }
   ],
   "source": [
    "#Find out data types and potential missing values\n",
    "df.info()"
   ]
  },
  {
   "cell_type": "code",
   "execution_count": 7,
   "metadata": {},
   "outputs": [
    {
     "data": {
      "text/html": [
       "<div>\n",
       "<style scoped>\n",
       "    .dataframe tbody tr th:only-of-type {\n",
       "        vertical-align: middle;\n",
       "    }\n",
       "\n",
       "    .dataframe tbody tr th {\n",
       "        vertical-align: top;\n",
       "    }\n",
       "\n",
       "    .dataframe thead th {\n",
       "        text-align: right;\n",
       "    }\n",
       "</style>\n",
       "<table border=\"1\" class=\"dataframe\">\n",
       "  <thead>\n",
       "    <tr style=\"text-align: right;\">\n",
       "      <th></th>\n",
       "      <th>id</th>\n",
       "      <th>host_id</th>\n",
       "      <th>latitude</th>\n",
       "      <th>longitude</th>\n",
       "      <th>price</th>\n",
       "      <th>minimum_nights</th>\n",
       "      <th>number_of_reviews</th>\n",
       "      <th>reviews_per_month</th>\n",
       "      <th>calculated_host_listings_count</th>\n",
       "      <th>availability_365</th>\n",
       "    </tr>\n",
       "  </thead>\n",
       "  <tbody>\n",
       "    <tr>\n",
       "      <th>count</th>\n",
       "      <td>4.889500e+04</td>\n",
       "      <td>4.889500e+04</td>\n",
       "      <td>48895.000000</td>\n",
       "      <td>48895.000000</td>\n",
       "      <td>48895.000000</td>\n",
       "      <td>48895.000000</td>\n",
       "      <td>48895.000000</td>\n",
       "      <td>38843.000000</td>\n",
       "      <td>48895.000000</td>\n",
       "      <td>48895.000000</td>\n",
       "    </tr>\n",
       "    <tr>\n",
       "      <th>mean</th>\n",
       "      <td>1.901714e+07</td>\n",
       "      <td>6.762001e+07</td>\n",
       "      <td>40.728949</td>\n",
       "      <td>-73.952170</td>\n",
       "      <td>152.720687</td>\n",
       "      <td>7.029962</td>\n",
       "      <td>23.274466</td>\n",
       "      <td>1.373221</td>\n",
       "      <td>7.143982</td>\n",
       "      <td>112.781327</td>\n",
       "    </tr>\n",
       "    <tr>\n",
       "      <th>std</th>\n",
       "      <td>1.098311e+07</td>\n",
       "      <td>7.861097e+07</td>\n",
       "      <td>0.054530</td>\n",
       "      <td>0.046157</td>\n",
       "      <td>240.154170</td>\n",
       "      <td>20.510550</td>\n",
       "      <td>44.550582</td>\n",
       "      <td>1.680442</td>\n",
       "      <td>32.952519</td>\n",
       "      <td>131.622289</td>\n",
       "    </tr>\n",
       "    <tr>\n",
       "      <th>min</th>\n",
       "      <td>2.539000e+03</td>\n",
       "      <td>2.438000e+03</td>\n",
       "      <td>40.499790</td>\n",
       "      <td>-74.244420</td>\n",
       "      <td>0.000000</td>\n",
       "      <td>1.000000</td>\n",
       "      <td>0.000000</td>\n",
       "      <td>0.010000</td>\n",
       "      <td>1.000000</td>\n",
       "      <td>0.000000</td>\n",
       "    </tr>\n",
       "    <tr>\n",
       "      <th>25%</th>\n",
       "      <td>9.471945e+06</td>\n",
       "      <td>7.822033e+06</td>\n",
       "      <td>40.690100</td>\n",
       "      <td>-73.983070</td>\n",
       "      <td>69.000000</td>\n",
       "      <td>1.000000</td>\n",
       "      <td>1.000000</td>\n",
       "      <td>0.190000</td>\n",
       "      <td>1.000000</td>\n",
       "      <td>0.000000</td>\n",
       "    </tr>\n",
       "    <tr>\n",
       "      <th>50%</th>\n",
       "      <td>1.967728e+07</td>\n",
       "      <td>3.079382e+07</td>\n",
       "      <td>40.723070</td>\n",
       "      <td>-73.955680</td>\n",
       "      <td>106.000000</td>\n",
       "      <td>3.000000</td>\n",
       "      <td>5.000000</td>\n",
       "      <td>0.720000</td>\n",
       "      <td>1.000000</td>\n",
       "      <td>45.000000</td>\n",
       "    </tr>\n",
       "    <tr>\n",
       "      <th>75%</th>\n",
       "      <td>2.915218e+07</td>\n",
       "      <td>1.074344e+08</td>\n",
       "      <td>40.763115</td>\n",
       "      <td>-73.936275</td>\n",
       "      <td>175.000000</td>\n",
       "      <td>5.000000</td>\n",
       "      <td>24.000000</td>\n",
       "      <td>2.020000</td>\n",
       "      <td>2.000000</td>\n",
       "      <td>227.000000</td>\n",
       "    </tr>\n",
       "    <tr>\n",
       "      <th>max</th>\n",
       "      <td>3.648724e+07</td>\n",
       "      <td>2.743213e+08</td>\n",
       "      <td>40.913060</td>\n",
       "      <td>-73.712990</td>\n",
       "      <td>10000.000000</td>\n",
       "      <td>1250.000000</td>\n",
       "      <td>629.000000</td>\n",
       "      <td>58.500000</td>\n",
       "      <td>327.000000</td>\n",
       "      <td>365.000000</td>\n",
       "    </tr>\n",
       "  </tbody>\n",
       "</table>\n",
       "</div>"
      ],
      "text/plain": [
       "                 id       host_id      latitude     longitude         price  \\\n",
       "count  4.889500e+04  4.889500e+04  48895.000000  48895.000000  48895.000000   \n",
       "mean   1.901714e+07  6.762001e+07     40.728949    -73.952170    152.720687   \n",
       "std    1.098311e+07  7.861097e+07      0.054530      0.046157    240.154170   \n",
       "min    2.539000e+03  2.438000e+03     40.499790    -74.244420      0.000000   \n",
       "25%    9.471945e+06  7.822033e+06     40.690100    -73.983070     69.000000   \n",
       "50%    1.967728e+07  3.079382e+07     40.723070    -73.955680    106.000000   \n",
       "75%    2.915218e+07  1.074344e+08     40.763115    -73.936275    175.000000   \n",
       "max    3.648724e+07  2.743213e+08     40.913060    -73.712990  10000.000000   \n",
       "\n",
       "       minimum_nights  number_of_reviews  reviews_per_month  \\\n",
       "count    48895.000000       48895.000000       38843.000000   \n",
       "mean         7.029962          23.274466           1.373221   \n",
       "std         20.510550          44.550582           1.680442   \n",
       "min          1.000000           0.000000           0.010000   \n",
       "25%          1.000000           1.000000           0.190000   \n",
       "50%          3.000000           5.000000           0.720000   \n",
       "75%          5.000000          24.000000           2.020000   \n",
       "max       1250.000000         629.000000          58.500000   \n",
       "\n",
       "       calculated_host_listings_count  availability_365  \n",
       "count                    48895.000000      48895.000000  \n",
       "mean                         7.143982        112.781327  \n",
       "std                         32.952519        131.622289  \n",
       "min                          1.000000          0.000000  \n",
       "25%                          1.000000          0.000000  \n",
       "50%                          1.000000         45.000000  \n",
       "75%                          2.000000        227.000000  \n",
       "max                        327.000000        365.000000  "
      ]
     },
     "execution_count": 7,
     "metadata": {},
     "output_type": "execute_result"
    }
   ],
   "source": [
    "# Find out maximum, minimun values, the means or counts etc. of each column\n",
    "df.describe()"
   ]
  },
  {
   "cell_type": "code",
   "execution_count": 8,
   "metadata": {},
   "outputs": [
    {
     "data": {
      "text/plain": [
       "array(['Brooklyn', 'Manhattan', 'Queens', 'Staten Island', 'Bronx'],\n",
       "      dtype=object)"
      ]
     },
     "execution_count": 8,
     "metadata": {},
     "output_type": "execute_result"
    }
   ],
   "source": [
    "#Find out which neighbourhood groups exist to check whether the rentals are all in an area belonging to New York City\n",
    "df[\"neighbourhood_group\"].unique()"
   ]
  },
  {
   "cell_type": "code",
   "execution_count": 9,
   "metadata": {},
   "outputs": [
    {
     "data": {
      "text/plain": [
       "array(['Private room', 'Entire home/apt', 'Shared room'], dtype=object)"
      ]
     },
     "execution_count": 9,
     "metadata": {},
     "output_type": "execute_result"
    }
   ],
   "source": [
    "#Find out which different room types exist\n",
    "df[\"room_type\"].unique()"
   ]
  },
  {
   "cell_type": "markdown",
   "metadata": {},
   "source": [
    "### Description of the data\n",
    "\n",
    "In the following I will describe the data-set (rentals.csv) explaining the data itself, its type, format and the context it is placed in aiming to get a better understanding of the data-set. I will also follow Rowntree's (1981) suggestion to describe the data's common attributes or variable characteristics distinguishing between category-variables, which can be either nominal (different group/category names) or ordinal (placing the data into ranked/ordered categories) and quantity-variables, made of either continuous data (which can be measured) or discrete data (which can be counted). \n",
    "\n",
    "The given data set consists of 48895 rows and 16 columns and thus contains data about 48895 rental objects in five areas (Brooklyn, Manhattan, Queens, Staten Island and Bronx) in New York City (NYC). The source of the data-set is not given, however, judging from the columns and types of data (e.g. including reviews and individual hosts etc.), I assume that the data was scraped from a housing portal/property rental website which contains private listings of people who rent out their properties by creating adverts for their rental objects.\n",
    "\n",
    "#### **id**\n",
    "The first column of the data set gives a unique id to each of the rental objects. The rental ids are formatted as integers and range between 2539 and 36487245.\n",
    "\n",
    "#### **name**\n",
    "The name column contains the title or name of the rental object as a String value. It is most likely the title given by the landlord when creating the rental advert serving as a short overall description of the rental object. Each name therefore consists of multiple words containing very different descriptions/information, often including the property's location, number of bedrooms, style, or other descriptive adjectives.\n",
    "\n",
    "#### **host_id**\n",
    "The host_id column provides a unique id to each of the hosts or landlords which advert one or more retal object(s). The data type of the host_id column is integer containing numbers ranging from 2438 to 274321313. \n",
    "\n",
    "#### **host_name**\n",
    "The host_name column gives information about the hosts/landlords names as String values. The names are not given in a standardized format, but often present only the first name, nicknames, single letters, the first names of two people, names of companies or organizations or even symbols. \n",
    "\n",
    "#### **neighbourhood_group**\n",
    "The neighbourhood_group column contains nominal category-variables assigning each rental object to a lager area. As descibed above, there are five larger areas, Brooklyn, Manhattan, Queens, Staten Island and Bronx, representing city districts which belong to NYC. It therefore presents that city district which each retal object is placed in as a String value. \n",
    "\n",
    "#### **neighbourhood**\n",
    "The neighbourhood column presents nominal category-variables which further specify the neighbourhood the rental object is placed in. These neighbourhoods are smaller areas within the city districts described in the neighbourhood_group column, also given as a String value. \n",
    "\n",
    "#### **latitude & longitude**\n",
    "There are two columns presenting quantiative continuous data (measuring data) as float values which describe the latitude and the longitude of each rental object location. Putting both values together would therefore result in the GPS coordinates describing the exact location of each rental object.\n",
    "\n",
    "#### **room_type**\n",
    "Each rental object is categorized as a room type indicating that is can be calssified as nomimal category-variables. The data set hereby contains three different room types: Private room, Entire home/apt and Shared room.\n",
    "\n",
    "#### **price**\n",
    "The price column contains quantity-variables in form of discrete values (which can be counted). The price for the rental objects can range from 0 to 10000 and is represented as integer values. The currency and the conditions (e.g. whether the price is the daily/weekly/monthly/annual rent) are not given. However, since the data-set contains only rental objects in NYC, I assume that the currency is US dollars, and, given the high rental prices in NYC and the fairly low values of the price, I assume the prices to represent the price per night for each rental object. \n",
    "\n",
    "#### **minimum_nights**\n",
    "The minimum_nights column also represents quantity-variables in form of discrete values as an integer data type. The values range from 1 night to 1250 nights, indicating the minimun amount of nights the apartment must be rented for.  \n",
    "\n",
    "#### **number_of_reviews**\n",
    "The number of reviews is another column containing discrete values as integer data types. The number of reviews for the listings range between 0 reviews and 629 reviews representing the total number of reviews for a specific rental object.\n",
    "\n",
    "#### **last_review**\n",
    "The last review column contains data about the date on which the last review was given for a specific rental object. The data type is a String value and the data format is standardized, dividing year, month and day with a dash (yyyy-mm-dd). \n",
    "\n",
    "#### **reviews_per_month**\n",
    "The reviews_per_month column contains a float value representing the average number of reviews the apartment receives per month. Since the average amount of reviews can contain data 'in-between' the values, I classify the data as quantity variables and continuous values which can be measured. \n",
    "\n",
    "#### **calculated_host_listing_count**\n",
    "This column represents the number of listings a specific host/landlord rents out. Each host in the data-set rents out between 1 and 327 rental objects, indicating that some of the hosts might not be private home-owners, but rental companies which own and rent out a large number of properties.\n",
    "The data in this column are quantity variables in the form of discrete data since it counts the number of rental objects. \n",
    "\n",
    "#### **availability_365**\n",
    "The last column contains discrete data about the number of days during one year (365 days) the apartment is available for as integer numbers. The number of days available thus ranges from 0 to 365 days indicating how many days of the year the property can still be booked for. "
   ]
  },
  {
   "cell_type": "markdown",
   "metadata": {},
   "source": [
    "## Research question and hypothesis"
   ]
  },
  {
   "cell_type": "markdown",
   "metadata": {},
   "source": [
    "Investigating the data-set has raised the question which factors have the highest influence on the price of a rental object. Knowing what factors determine the price of a rental objet could, for example, prove useful to rental platform businesses since it could enable them to build models which can provide suggestions to hosts/landlords about  the price of their rental property according to different metrics. \n",
    "\n",
    "Since the columns id, name, host_id and host_name are unique to either individuals or a rental object itself, and can therefore not be generalized, I will not be using these factors to determine the effects on the price of a rental object. \n",
    "Given that the data-set provides seven quantity variables containing numerical data (latitude, longitude, minimum nights, the total number of reviews, the average number of reviews per month, the number of listings and the availability throughout the year) and only three category variables (the district in which the rental property is placed in, the specific neighbourhood and the room type), I will aim to answer this question using a linear regression model. In contrast to a random forest model, the linear regression model models the relationship between two quantitative (ideally continuous) variables by fitting a linear equation to observed data. The random forest model on the other hand is used to predict classifications and would thus be more suitable for to predict a specific category an object belongs to. \n",
    "\n",
    "I expect the total number of reviews to be largely correlated with the average number of reviews per month and will therefore focus my analysis on only the average number of reviews per month (reviews_per_month) leaving me with six variables/factors to include in a multi variable regression model: latitude, longitude, minimum nights, the average number of reviews per month, the number of listings and the availability throughout the year.\n",
    "\n",
    "I hypothesize that the latitude and longitude are highly correlated with the price of a rental property since they determine the location of apartments which I assume to often have a high influence on apartment prices. \n",
    "I furthermore expect that the minimum number of nights a property is rented for might correlate with the rental price since I expect very temporal stays to be often booked for holidays or short trips which might lead to higher rental prices per night than long-term rentals. \n",
    "A higher amount of monthly reviews could suggest a higher price since more people might be interested in the specific property leading to higher demand. However, it will be interesting to see whether the average number of monthly reviews actually has any influence on the apartment. \n",
    "I expect a rather low correrlation with the number of listings, since I do not think that a company which rents out multiple apartments can raise the rental price significantly compared to pivate landlords.\n",
    "Lastly, I assume that there might be a higher availability of the apartment if the price is very high, since I expect a much higher demand for cheaper apartments.\n",
    "\n",
    "It will be interesting to see whether these factors have an influence on the price in the analysis section. Furthermore, I would like to find out whether including multiple variables in the linear regression model will improve the accuracy of the model, leading to better price predictions for hosts/landlords."
   ]
  },
  {
   "cell_type": "markdown",
   "metadata": {},
   "source": [
    "## Data preparation and cleaning "
   ]
  },
  {
   "cell_type": "markdown",
   "metadata": {},
   "source": [
    "### Introduction to data pre-processing\n",
    "Before the dataset can be used for a proper analysis, it first needs to be pre-processed. Pre-processing the data includes cleaning the data, and potentially transforming and rearranging it in order to manipulate it into the right form which can be used more easily in the analysis. In the following section, I will therefore aim to handle missing data, transform certain data into the right format and detect and filter potential outliers. This is a required first step, especially before any machine learning algorithms can be applied, since these algorithms learn from data and the outcome of the analysis is thus strongly dependend on the quality of the data set."
   ]
  },
  {
   "cell_type": "code",
   "execution_count": 10,
   "metadata": {},
   "outputs": [
    {
     "name": "stdout",
     "output_type": "stream",
     "text": [
      "<class 'pandas.core.frame.DataFrame'>\n",
      "RangeIndex: 48895 entries, 0 to 48894\n",
      "Data columns (total 16 columns):\n",
      " #   Column                          Non-Null Count  Dtype  \n",
      "---  ------                          --------------  -----  \n",
      " 0   id                              48895 non-null  int64  \n",
      " 1   name                            48879 non-null  object \n",
      " 2   host_id                         48895 non-null  int64  \n",
      " 3   host_name                       48874 non-null  object \n",
      " 4   neighbourhood_group             48895 non-null  object \n",
      " 5   neighbourhood                   48895 non-null  object \n",
      " 6   latitude                        48895 non-null  float64\n",
      " 7   longitude                       48895 non-null  float64\n",
      " 8   room_type                       48895 non-null  object \n",
      " 9   price                           48895 non-null  int64  \n",
      " 10  minimum_nights                  48895 non-null  int64  \n",
      " 11  number_of_reviews               48895 non-null  int64  \n",
      " 12  last_review                     38843 non-null  object \n",
      " 13  reviews_per_month               38843 non-null  float64\n",
      " 14  calculated_host_listings_count  48895 non-null  int64  \n",
      " 15  availability_365                48895 non-null  int64  \n",
      "dtypes: float64(3), int64(7), object(6)\n",
      "memory usage: 6.0+ MB\n"
     ]
    }
   ],
   "source": [
    "#Check whether there is missing data\n",
    "df.info()"
   ]
  },
  {
   "cell_type": "markdown",
   "metadata": {},
   "source": [
    "#### Handling missing values\n",
    "Since the data set has 48895 entries, the columns with less entries than 48895 have missing values. I thus conclude that there are missing values in the name, host_name, last_review and reviews_per_month columns. \n",
    "\n",
    "There are only 16 and 21 missing values for the names and host_name column. In the sections below, I have filtered the rows for which host_name data is missing, and it shows that there is valuable data in the other columns of the rows with missing host_name data. Since I am not planning on using those two columns in my analysis, I will not choose to remove or replace this missing data in order to keep the data in the rest of the columns which might give valuable insights during the analysis.  \n",
    "\n",
    "For the column last_reviews, there are 10052 missing values. Since the reviews_per_month column takes an average of the reviews given per month, logically it has the same number of missing values. 10052 values make up a large amount of the data-set (over 20%) and I will therefore not drop/remove any of the rows with missing data on those two columns.\n",
    "Since I will be using the reviews_per_month column, however, as a predictor in my linear regression model, I will need to eliminate or replace the missing values."
   ]
  },
  {
   "cell_type": "code",
   "execution_count": 11,
   "metadata": {},
   "outputs": [
    {
     "data": {
      "text/plain": [
       "360      NaN\n",
       "2700     NaN\n",
       "5745     NaN\n",
       "6075     NaN\n",
       "6582     NaN\n",
       "8163     NaN\n",
       "8257     NaN\n",
       "8852     NaN\n",
       "9138     NaN\n",
       "9817     NaN\n",
       "14040    NaN\n",
       "14631    NaN\n",
       "15174    NaN\n",
       "19565    NaN\n",
       "27777    NaN\n",
       "27962    NaN\n",
       "28042    NaN\n",
       "28274    NaN\n",
       "30570    NaN\n",
       "32193    NaN\n",
       "38992    NaN\n",
       "Name: host_name, dtype: object"
      ]
     },
     "execution_count": 11,
     "metadata": {},
     "output_type": "execute_result"
    }
   ],
   "source": [
    "#Find specific rows which are missing data on the host_name column\n",
    "mask = df[\"host_name\"].isna()\n",
    "df[mask][\"host_name\"]"
   ]
  },
  {
   "cell_type": "code",
   "execution_count": 12,
   "metadata": {},
   "outputs": [
    {
     "data": {
      "text/plain": [
       "id                                             7556587\n",
       "name                              Sunny Room in Harlem\n",
       "host_id                                       39608626\n",
       "host_name                                          NaN\n",
       "neighbourhood_group                          Manhattan\n",
       "neighbourhood                                   Harlem\n",
       "latitude                                      40.82929\n",
       "longitude                                    -73.94182\n",
       "room_type                                 Private room\n",
       "price                                               28\n",
       "minimum_nights                                       1\n",
       "number_of_reviews                                    1\n",
       "last_review                                 2015-08-01\n",
       "reviews_per_month                                 0.02\n",
       "calculated_host_listings_count                       1\n",
       "availability_365                                     0\n",
       "Name: 9817, dtype: object"
      ]
     },
     "execution_count": 12,
     "metadata": {},
     "output_type": "execute_result"
    }
   ],
   "source": [
    "#inspect the remaining data in the rows with missing host_name values\n",
    "df.loc[9817]"
   ]
  },
  {
   "cell_type": "markdown",
   "metadata": {},
   "source": [
    "#### Rename column\n",
    "Since the column name \"calculated_host_listings_count\" is slightly misleading and very long, I will rename the column to \"number_of_listings\" hoping that this column name is more descriptive about what data the column contains and the shorter name will be easier to work with in the analysis section.  "
   ]
  },
  {
   "cell_type": "code",
   "execution_count": 13,
   "metadata": {},
   "outputs": [],
   "source": [
    "xf = df.rename(columns={\"calculated_host_listings_count\": \"number_of_listings\"})"
   ]
  },
  {
   "cell_type": "code",
   "execution_count": 14,
   "metadata": {},
   "outputs": [],
   "source": [
    "df = xf.copy()"
   ]
  },
  {
   "cell_type": "markdown",
   "metadata": {},
   "source": [
    "#### Replace missing values of reviews_per_month\n",
    "When investigating the data, I found a correlation between all review columns (number_of_reviews, last_review and reviews_per_month). Logically, if the number of reviews are 0, there will not be any past reviews (making the last_review value NaN) leading to another missing value in the reviews_per_month column. In those columns where the number of total reviews is 0, the average amount of reviews per month needs to be 0 as well. I have therefore decided to replace all missing values in the reviews_per_month column with the number 0, in order to eliminate missing values. "
   ]
  },
  {
   "cell_type": "code",
   "execution_count": 15,
   "metadata": {},
   "outputs": [],
   "source": [
    "xf = df.copy()\n",
    "xf[\"reviews_per_month\"] = xf[\"reviews_per_month\"].fillna(0)"
   ]
  },
  {
   "cell_type": "code",
   "execution_count": 16,
   "metadata": {},
   "outputs": [],
   "source": [
    "df = xf.copy()"
   ]
  },
  {
   "cell_type": "markdown",
   "metadata": {},
   "source": [
    "## Data visualization and further exploration\n",
    "\n",
    "According to Robert Grant, \"Visualizing is not only useful for communicating messages, but also for the analyst to understand their data in depth.\" (2019: 6). In the following section, I will therefore aim to visualize different data points, and relations between different data points aiming to get a better overview and understanding of the data. Visualizing the data can help spotting patterns as well as find inconsistencies and potential outliers which would call for further data cleaning. "
   ]
  },
  {
   "cell_type": "markdown",
   "metadata": {},
   "source": [
    "#### Plotting price, reviews per month and their correlation"
   ]
  },
  {
   "cell_type": "code",
   "execution_count": 17,
   "metadata": {},
   "outputs": [
    {
     "data": {
      "text/plain": [
       "<AxesSubplot:ylabel='Frequency'>"
      ]
     },
     "execution_count": 17,
     "metadata": {},
     "output_type": "execute_result"
    },
    {
     "data": {
      "image/png": "[encoded data removed]",
      "text/plain": [
       "<Figure size 432x288 with 1 Axes>"
      ]
     },
     "metadata": {
      "needs_background": "light"
     },
     "output_type": "display_data"
    }
   ],
   "source": [
    "df[\"price\"].plot.hist()"
   ]
  },
  {
   "cell_type": "markdown",
   "metadata": {},
   "source": [
    "This histogram shows the the frequency of different prices in the data-set. Plotting the data shows, that most prices lie within a range of 0 and 2000."
   ]
  },
  {
   "cell_type": "code",
   "execution_count": 18,
   "metadata": {},
   "outputs": [
    {
     "data": {
      "text/plain": [
       "<AxesSubplot:ylabel='Frequency'>"
      ]
     },
     "execution_count": 18,
     "metadata": {},
     "output_type": "execute_result"
    },
    {
     "data": {
      "image/png": "[encoded data removed]",
      "text/plain": [
       "<Figure size 432x288 with 1 Axes>"
      ]
     },
     "metadata": {
      "needs_background": "light"
     },
     "output_type": "display_data"
    }
   ],
   "source": [
    "df[\"reviews_per_month\"].plot.hist()"
   ]
  },
  {
   "cell_type": "markdown",
   "metadata": {},
   "source": [
    "This histogram shows the the frequency of the average in monthly reviews in the data-set. Plotting the data shows, that there are very few data points between 15 and 60 and most monthly average reviews lie within a range of 0 and 12."
   ]
  },
  {
   "cell_type": "code",
   "execution_count": 19,
   "metadata": {},
   "outputs": [
    {
     "data": {
      "text/plain": [
       "<AxesSubplot:xlabel='reviews_per_month', ylabel='price'>"
      ]
     },
     "execution_count": 19,
     "metadata": {},
     "output_type": "execute_result"
    },
    {
     "data": {
      "image/png": "[encoded data removed]",
      "text/plain": [
       "<Figure size 432x288 with 1 Axes>"
      ]
     },
     "metadata": {
      "needs_background": "light"
     },
     "output_type": "display_data"
    }
   ],
   "source": [
    "df.plot.scatter(\"reviews_per_month\", \"price\")"
   ]
  },
  {
   "cell_type": "markdown",
   "metadata": {},
   "source": [
    "#### Removing outliers \n",
    "The visualizations above show that there are very few data points that differ dramatically from all others in both variables, the price and the monthly reviews. These values could cause anomalies in the results obtained through applying machine learning algorithms in the analysis section of this report. \n",
    "I will therefore remove the outliers for both categories. Reading from the scatter plot, I will remove all data above 6000 in the \"price\" column and all data above 20 in the \"review_per_month\" column. "
   ]
  },
  {
   "cell_type": "code",
   "execution_count": 20,
   "metadata": {},
   "outputs": [
    {
     "data": {
      "text/plain": [
       "5250"
      ]
     },
     "execution_count": 20,
     "metadata": {},
     "output_type": "execute_result"
    }
   ],
   "source": [
    "df = df[df[\"price\"]<6000]\n",
    "#Check whether all prices above 6000 were removed\n",
    "df[\"price\"].max()"
   ]
  },
  {
   "cell_type": "code",
   "execution_count": 54,
   "metadata": {},
   "outputs": [
    {
     "data": {
      "text/plain": [
       "19.75"
      ]
     },
     "execution_count": 54,
     "metadata": {},
     "output_type": "execute_result"
    }
   ],
   "source": [
    "df = df[df[\"reviews_per_month\"]<20]\n",
    "\n",
    "# Check whether all reviews above 20 have been removed\n",
    "df[\"reviews_per_month\"].max()"
   ]
  },
  {
   "cell_type": "markdown",
   "metadata": {},
   "source": [
    "#### New scatter plot using data without outliers"
   ]
  },
  {
   "cell_type": "code",
   "execution_count": 22,
   "metadata": {},
   "outputs": [
    {
     "data": {
      "text/plain": [
       "<AxesSubplot:xlabel='reviews_per_month', ylabel='price'>"
      ]
     },
     "execution_count": 22,
     "metadata": {},
     "output_type": "execute_result"
    },
    {
     "data": {
      "image/png": "[encoded data removed]",
      "text/plain": [
       "<Figure size 432x288 with 1 Axes>"
      ]
     },
     "metadata": {
      "needs_background": "light"
     },
     "output_type": "display_data"
    }
   ],
   "source": [
    "df.plot.scatter(\"reviews_per_month\", \"price\")"
   ]
  },
  {
   "cell_type": "markdown",
   "metadata": {},
   "source": [
    "#### Plotting a regression model between average monthly reviews and rental price"
   ]
  },
  {
   "cell_type": "code",
   "execution_count": 23,
   "metadata": {},
   "outputs": [
    {
     "data": {
      "image/png": "[encoded data removed]",
      "text/plain": [
       "<Figure size 432x432 with 3 Axes>"
      ]
     },
     "metadata": {
      "needs_background": "light"
     },
     "output_type": "display_data"
    }
   ],
   "source": [
    "g = sns.jointplot(x=\"reviews_per_month\", y=\"price\", data=df, kind='reg')\n",
    "regline = g.ax_joint.get_lines()[0]\n",
    "regline.set_color('red')"
   ]
  },
  {
   "cell_type": "code",
   "execution_count": 24,
   "metadata": {},
   "outputs": [
    {
     "data": {
      "image/png": "[encoded data removed]",
      "text/plain": [
       "<Figure size 432x432 with 3 Axes>"
      ]
     },
     "metadata": {
      "needs_background": "light"
     },
     "output_type": "display_data"
    }
   ],
   "source": [
    "g = sns.jointplot(x=\"availability_365\", y=\"price\", data=df, kind='reg')\n",
    "regline = g.ax_joint.get_lines()[0]\n",
    "regline.set_color('red')"
   ]
  },
  {
   "cell_type": "markdown",
   "metadata": {},
   "source": [
    "Plotting a linear regression between the variables reviews per month and the price as well as availability and price can give a first insight into a potential correlation between them. While the regression plot suggests a rather low correlation, contrary to my initial assumption, there seem to be more monthly reviews on average for cheaper rentals than more expensive properties. The correlation between the availability of a rental object and the price is also very low. However, my assumption that higher priced properties have higher availabilties proved to be true, but the plot is still very scattered, suggestion only a very slight trend toward higher prices for more availability."
   ]
  },
  {
   "cell_type": "markdown",
   "metadata": {},
   "source": [
    "#### Correlations between variables"
   ]
  },
  {
   "cell_type": "code",
   "execution_count": 25,
   "metadata": {},
   "outputs": [
    {
     "data": {
      "text/plain": [
       "<AxesSubplot:>"
      ]
     },
     "execution_count": 25,
     "metadata": {},
     "output_type": "execute_result"
    },
    {
     "data": {
      "image/png": "[encoded data removed]",
      "text/plain": [
       "<Figure size 432x288 with 2 Axes>"
      ]
     },
     "metadata": {
      "needs_background": "light"
     },
     "output_type": "display_data"
    }
   ],
   "source": [
    "sns.heatmap(xf.corr())"
   ]
  },
  {
   "cell_type": "markdown",
   "metadata": {},
   "source": [
    "This heat map shows the correlation between the different variables/factors. One can quickly see that there is a high correlation between the number of reviews and the average number of reviews per month which further supports my decision to include only one of those values in my prediction model. "
   ]
  },
  {
   "cell_type": "markdown",
   "metadata": {},
   "source": [
    "## Data analysis"
   ]
  },
  {
   "cell_type": "markdown",
   "metadata": {},
   "source": [
    "In this section I will further investigate my research question trying to find out which factors have the highest influence on the price of a rental object. \n",
    "\n",
    "As described when introducing my hypothesis, I will train a linear regression model with all quantitative data in the data aiming to find a correlation between those and the rental price. \n",
    "I will then evaluate the findings and make a deicision whether my hypothesis needs to be revised or further analysis is needed for better results. "
   ]
  },
  {
   "cell_type": "markdown",
   "metadata": {},
   "source": [
    "#### Splitting the data into training sets and test sets"
   ]
  },
  {
   "cell_type": "code",
   "execution_count": 26,
   "metadata": {},
   "outputs": [],
   "source": [
    "# Splitting the data into training sets and test sets\n",
    "def split_data(dataframe, predictors, target, test_size=0.1):\n",
    "    X = dataframe[predictors]\n",
    "    y = dataframe[target]\n",
    "    X_train, X_test, y_train, y_test = sklearn.model_selection.train_test_split(X, y,\n",
    "    test_size=test_size, random_state=np.random.RandomState(0))\n",
    "    return X_train, X_test, y_train, y_test"
   ]
  },
  {
   "cell_type": "markdown",
   "metadata": {},
   "source": [
    "#### Initiating linear regression model"
   ]
  },
  {
   "cell_type": "code",
   "execution_count": 27,
   "metadata": {},
   "outputs": [],
   "source": [
    "def linear_regression(dataframe, x, y):\n",
    "    X_train, X_test, y_train, y_test = split_data(dataframe, x, y)\n",
    "    model = sklearn.linear_model.LinearRegression()\n",
    "    model.fit(X_train, y_train)\n",
    "    preds = model.predict(X_test)\n",
    "    return sklearn.metrics.r2_score(y_test, preds)"
   ]
  },
  {
   "cell_type": "code",
   "execution_count": 28,
   "metadata": {},
   "outputs": [
    {
     "name": "stdout",
     "output_type": "stream",
     "text": [
      "0.0024061181805116183\n",
      "7.17765775783974e-05\n",
      "0.03358782806845595\n",
      "0.002651009549507921\n",
      "0.00673675387286532\n"
     ]
    }
   ],
   "source": [
    "# Evaluating correlation between each of the variables and the price\n",
    "print(linear_regression(df, [\"reviews_per_month\"], \"price\"))\n",
    "print(linear_regression(df, [\"minimum_nights\"], \"price\"))\n",
    "\n",
    "# Evaluating the longitude and latitude together will most likely give a much higher correlation since it pinpoints the exact location of a rental object\n",
    "print(linear_regression(df, [\"longitude\", \"latitude\"], \"price\"))\n",
    "\n",
    "print(linear_regression(df, [\"number_of_listings\"], \"price\"))\n",
    "print(linear_regression(df, [\"availability_365\"], \"price\"))"
   ]
  },
  {
   "cell_type": "code",
   "execution_count": 29,
   "metadata": {},
   "outputs": [
    {
     "name": "stdout",
     "output_type": "stream",
     "text": [
      "0.04750476167368112\n"
     ]
    }
   ],
   "source": [
    "#Multivariable regression\n",
    "print(linear_regression(df, [\"reviews_per_month\", \"minimum_nights\", \"longitude\", \"latitude\", \"number_of_listings\", \"availability_365\"], \"price\"))"
   ]
  },
  {
   "cell_type": "markdown",
   "metadata": {},
   "source": [
    "#### Evaluating the linear regression model\n",
    "\n",
    "The r2 score which is returned by the model divides the variation in the price variable explained by taking all x variables into account by the variation in price without taking all x variables into account. The score thus tells us how much of the variation in price can be explained by taking reviews per month, the minimum number of nights, the apartments longitude & latitude, the number of listings a host has as well as the apartment's availability throughout the year into account.\n",
    "\n",
    "The r2 score which was calculated is hereby 0,0475, which is a coefficient of determination of only app. 4,8 % suggesting a very low correlation between an apartment's price and the factors given as the x-variable.\n",
    "While the r2 score for the models with only one or two variables is even lower, one can see the the longitude and latitude of a retal object has the highest correlatiton with the price among all tested variables. Including multiple variables in the model, however, shows a much higher accuracy of the model than the single variable models. "
   ]
  },
  {
   "cell_type": "markdown",
   "metadata": {},
   "source": [
    "## Discussion of analysis results "
   ]
  },
  {
   "cell_type": "markdown",
   "metadata": {},
   "source": [
    "#### Taking categorical values into account\n",
    "\n",
    "Given the low accuracy of my linear regression model, I will aim to transform the categorical data (room_type, neighbourhood_group and neighbourhood) into numerical data (ordinal categories) in order to include those factors in my regression model. This has the purpose of evaluating whether these factors improve the accuracy of the model suggesting that they are determining factors for the price of a property. \n",
    "\n",
    "Looking at the categorical variables, I expect very high correlations between them and the price of a property. When renting an apartment, the location and the size of the apartment usually have a big influence on the rent. It is commonly known that big and centrally located apartments are among the most expensive properties. I therefore expect a much higher price for entire homes or apartments than for shared rooms. Similarly, I expect centrally located apartments, for example in Manhattan or Brooklyn, to have an influence on a higher price of the apartment."
   ]
  },
  {
   "cell_type": "code",
   "execution_count": 30,
   "metadata": {},
   "outputs": [
    {
     "data": {
      "text/plain": [
       "room_type\n",
       "Entire home/apt    207.582595\n",
       "Private room        88.270397\n",
       "Shared room         70.127586\n",
       "Name: price, dtype: float64"
      ]
     },
     "execution_count": 30,
     "metadata": {},
     "output_type": "execute_result"
    }
   ],
   "source": [
    "# Check average price of each room type to get an idea about potential outcomes of the model\n",
    "# As expected, entire apartments or homes have a much higher price on average than shared rooms\n",
    "df.groupby(\"room_type\").mean()[\"price\"]"
   ]
  },
  {
   "cell_type": "code",
   "execution_count": 31,
   "metadata": {},
   "outputs": [
    {
     "data": {
      "text/plain": [
       "neighbourhood_group\n",
       "Bronx             87.496792\n",
       "Brooklyn         122.815920\n",
       "Manhattan        192.289984\n",
       "Queens            97.779308\n",
       "Staten Island    114.812332\n",
       "Name: price, dtype: float64"
      ]
     },
     "execution_count": 31,
     "metadata": {},
     "output_type": "execute_result"
    }
   ],
   "source": [
    "# Check average price for each of the city districts\n",
    "# As expected, the average rent in Brooklyn and Manhattan, but also Staten Island seems to be much higher than in the Bronx and Queens \n",
    "df.groupby(\"neighbourhood_group\").mean()[\"price\"]"
   ]
  },
  {
   "cell_type": "code",
   "execution_count": 32,
   "metadata": {},
   "outputs": [
    {
     "data": {
      "text/plain": [
       "0           Private room\n",
       "1        Entire home/apt\n",
       "2           Private room\n",
       "3        Entire home/apt\n",
       "4        Entire home/apt\n",
       "              ...       \n",
       "48890       Private room\n",
       "48891       Private room\n",
       "48892    Entire home/apt\n",
       "48893        Shared room\n",
       "48894       Private room\n",
       "Name: room_type, Length: 48874, dtype: object"
      ]
     },
     "execution_count": 32,
     "metadata": {},
     "output_type": "execute_result"
    }
   ],
   "source": [
    "df[\"room_type\"]"
   ]
  },
  {
   "cell_type": "code",
   "execution_count": 33,
   "metadata": {},
   "outputs": [],
   "source": [
    "# Give a numerical values for each of the neighbourhoods\n",
    "df[\"neighbourhood\"] = pd.factorize(df[\"neighbourhood\"])[0]"
   ]
  },
  {
   "cell_type": "code",
   "execution_count": 34,
   "metadata": {},
   "outputs": [],
   "source": [
    "# Give a numerical values for each of the NYC districts\n",
    "df[\"neighbourhood_group\"] = pd.factorize(df[\"neighbourhood_group\"])[0]"
   ]
  },
  {
   "cell_type": "code",
   "execution_count": 35,
   "metadata": {},
   "outputs": [],
   "source": [
    "# Give a numerical values for each room type\n",
    "df[\"room_type\"] = pd.factorize(df[\"room_type\"])[0]"
   ]
  },
  {
   "cell_type": "code",
   "execution_count": 36,
   "metadata": {},
   "outputs": [
    {
     "data": {
      "text/plain": [
       "1    25395\n",
       "0    22319\n",
       "2     1160\n",
       "Name: room_type, dtype: int64"
      ]
     },
     "execution_count": 36,
     "metadata": {},
     "output_type": "execute_result"
    }
   ],
   "source": [
    "# Check whether room types have been transformed into numerical values\n",
    "# 0 = Private room, 1 = Entire home/apartment, 2 = Shared room\n",
    "df[\"room_type\"].value_counts()"
   ]
  },
  {
   "cell_type": "code",
   "execution_count": 37,
   "metadata": {},
   "outputs": [
    {
     "name": "stdout",
     "output_type": "stream",
     "text": [
      "<class 'pandas.core.frame.DataFrame'>\n",
      "Int64Index: 48874 entries, 0 to 48894\n",
      "Data columns (total 16 columns):\n",
      " #   Column               Non-Null Count  Dtype  \n",
      "---  ------               --------------  -----  \n",
      " 0   id                   48874 non-null  int64  \n",
      " 1   name                 48858 non-null  object \n",
      " 2   host_id              48874 non-null  int64  \n",
      " 3   host_name            48853 non-null  object \n",
      " 4   neighbourhood_group  48874 non-null  int64  \n",
      " 5   neighbourhood        48874 non-null  int64  \n",
      " 6   latitude             48874 non-null  float64\n",
      " 7   longitude            48874 non-null  float64\n",
      " 8   room_type            48874 non-null  int64  \n",
      " 9   price                48874 non-null  int64  \n",
      " 10  minimum_nights       48874 non-null  int64  \n",
      " 11  number_of_reviews    48874 non-null  int64  \n",
      " 12  last_review          38832 non-null  object \n",
      " 13  reviews_per_month    48874 non-null  float64\n",
      " 14  number_of_listings   48874 non-null  int64  \n",
      " 15  availability_365     48874 non-null  int64  \n",
      "dtypes: float64(3), int64(10), object(3)\n",
      "memory usage: 6.3+ MB\n"
     ]
    }
   ],
   "source": [
    "# Check whether categories are tranformed into integers\n",
    "df.info()"
   ]
  },
  {
   "cell_type": "markdown",
   "metadata": {},
   "source": [
    "#### Plotting the regression models for categorical data"
   ]
  },
  {
   "cell_type": "code",
   "execution_count": 38,
   "metadata": {},
   "outputs": [
    {
     "data": {
      "image/png": "[encoded data removed]",
      "text/plain": [
       "<Figure size 432x432 with 3 Axes>"
      ]
     },
     "metadata": {
      "needs_background": "light"
     },
     "output_type": "display_data"
    }
   ],
   "source": [
    "g = sns.jointplot(x=\"neighbourhood_group\", y=\"price\", data=df, kind='reg')\n",
    "regline = g.ax_joint.get_lines()[0]\n",
    "regline.set_color('red')"
   ]
  },
  {
   "cell_type": "code",
   "execution_count": 39,
   "metadata": {},
   "outputs": [
    {
     "data": {
      "image/png": "[encoded data removed]",
      "text/plain": [
       "<Figure size 432x432 with 3 Axes>"
      ]
     },
     "metadata": {
      "needs_background": "light"
     },
     "output_type": "display_data"
    }
   ],
   "source": [
    "g = sns.jointplot(x=\"neighbourhood\", y=\"price\", data=df, kind='reg')\n",
    "regline = g.ax_joint.get_lines()[0]\n",
    "regline.set_color('red')"
   ]
  },
  {
   "cell_type": "code",
   "execution_count": 40,
   "metadata": {},
   "outputs": [
    {
     "data": {
      "image/png": "[encoded data removed]",
      "text/plain": [
       "<Figure size 432x432 with 3 Axes>"
      ]
     },
     "metadata": {
      "needs_background": "light"
     },
     "output_type": "display_data"
    }
   ],
   "source": [
    "g = sns.jointplot(x=\"room_type\", y=\"price\", data=df, kind='reg')\n",
    "regline = g.ax_joint.get_lines()[0]\n",
    "regline.set_color('red')"
   ]
  },
  {
   "cell_type": "markdown",
   "metadata": {},
   "source": [
    "When plotting the regression models between the price and the categorical/ordinal data shows that a linear regression model might not be suitable for such an analysis. As mention before, linear regression models work best on quantitative data, especially on continuous data/variables (e.g. height and weight). While the price constitutes a continuous variable, transforming the categories into numerical data creates ordinal rankings between a limited amount of numbers. \n",
    "\n",
    "There is furthermore a problem, since the transformation has created some kind of ranking which is normally not given on categorical data (the shared room was given the number 2 although it is not different in its value than the private room which was given the number 0). They constitute equally ranked categories which, however, is difficult to express as numerical data."
   ]
  },
  {
   "cell_type": "markdown",
   "metadata": {},
   "source": [
    "#### Calculating r2 scores for the regression models including categorical data"
   ]
  },
  {
   "cell_type": "code",
   "execution_count": 41,
   "metadata": {},
   "outputs": [
    {
     "name": "stdout",
     "output_type": "stream",
     "text": [
      "0.04810598930756915\n"
     ]
    }
   ],
   "source": [
    "# neighbourhood_group added to the model\n",
    "print(linear_regression(df, [\"reviews_per_month\", \"minimum_nights\", \"longitude\", \"latitude\", \"number_of_listings\", \"availability_365\", \"neighbourhood_group\"], \"price\"))"
   ]
  },
  {
   "cell_type": "code",
   "execution_count": 42,
   "metadata": {},
   "outputs": [
    {
     "name": "stdout",
     "output_type": "stream",
     "text": [
      "0.04726232660735574\n"
     ]
    }
   ],
   "source": [
    "# neighbourhood added to the model\n",
    "print(linear_regression(df, [\"reviews_per_month\", \"minimum_nights\", \"longitude\", \"latitude\", \"number_of_listings\", \"availability_365\", \"neighbourhood\"], \"price\"))"
   ]
  },
  {
   "cell_type": "code",
   "execution_count": 43,
   "metadata": {},
   "outputs": [
    {
     "name": "stdout",
     "output_type": "stream",
     "text": [
      "0.09108779411260548\n"
     ]
    }
   ],
   "source": [
    "# room_type added to the model\n",
    "print(linear_regression(df, [\"reviews_per_month\", \"minimum_nights\", \"longitude\", \"latitude\", \"number_of_listings\", \"availability_365\", \"room_type\"], \"price\"))"
   ]
  },
  {
   "cell_type": "code",
   "execution_count": 44,
   "metadata": {},
   "outputs": [
    {
     "name": "stdout",
     "output_type": "stream",
     "text": [
      "0.09165364237052309\n"
     ]
    }
   ],
   "source": [
    "# all categorical variables added to the model\n",
    "print(linear_regression(df, [\"reviews_per_month\", \"minimum_nights\", \"longitude\", \"latitude\", \"number_of_listings\", \"availability_365\", \"room_type\", \"neighbourhood_group\", \"neighbourhood\"], \"price\"))"
   ]
  },
  {
   "cell_type": "markdown",
   "metadata": {},
   "source": [
    "#### Results of the hypothesis revision\n",
    "Adding the categorical data to the linear regression model has visibily improved the r2 value. As expected, especially the housing type and the location of the rental property in a specific district seem to have large influences on the pricing of a rental object. \n",
    "A multi variable regression model containing all variables (reviews_per_month, minimum_nights, longitude, latitude, number_of_listings, availability_365, room_type, neighbourhood_group, neighbourhood) has achieved the highest r2 score so far, suggesting that all factors together have the highest influence on the price of a rental object. \n",
    "However, with a coefficient of determination of 0,0917 or app. 9,27 %, the correlation is still fairly low. \n",
    "\n",
    "Since the categorical data seems to hold more meaning, making a random forest model to predict the price by taking the room type, neighbourhood group and neighbourhood might lead to more accurate and pricise results as to how the price is influenced by these categories. "
   ]
  },
  {
   "cell_type": "markdown",
   "metadata": {},
   "source": [
    "#### Random Forest Model\n",
    "Predicting the price using the three categorical variables: room_type, neighbourhood_group and neighbourhood."
   ]
  },
  {
   "cell_type": "code",
   "execution_count": 45,
   "metadata": {},
   "outputs": [],
   "source": [
    "# Random Forest model\n",
    "def random_forest(dataframe):\n",
    "    rng = np.random.RandomState(0)\n",
    "    input_features = [\"room_type\", \"neighbourhood_group\", \"neighbourhood\"]\n",
    "    X_train, X_test, y_train, y_test = split_data(dataframe, input_features, \"price\")\n",
    "    model = sklearn.ensemble.RandomForestClassifier(random_state=rng)\n",
    "    model.fit(X_train, y_train)\n",
    "    preds = model.predict(X_test)\n",
    "    test_report = sklearn.metrics.classification_report(y_test, preds)\n",
    "    print(test_report)\n",
    "    feature_importances = \"\\n\\t\".join(f\"{feature}: {importance:.2f}\" for feature, importance in zip(input_features, model.feature_importances_))\n",
    "    print(f\"Feature importances:\\n\\t{feature_importances}\")"
   ]
  },
  {
   "cell_type": "code",
   "execution_count": 46,
   "metadata": {},
   "outputs": [
    {
     "name": "stdout",
     "output_type": "stream",
     "text": [
      "              precision    recall  f1-score   support\n",
      "\n",
      "           0       0.00      0.00      0.00         1\n",
      "          10       0.00      0.00      0.00         2\n",
      "          12       0.00      0.00      0.00         1\n",
      "          15       0.00      0.00      0.00         1\n",
      "          16       0.00      0.00      0.00         1\n",
      "          20       0.00      0.00      0.00         2\n",
      "          24       0.00      0.00      0.00         2\n",
      "          25       0.09      0.11      0.10         9\n",
      "          26       0.00      0.00      0.00         1\n",
      "          27       0.00      0.00      0.00         3\n",
      "          28       0.75      0.38      0.50         8\n",
      "          29       0.00      0.00      0.00        12\n",
      "          30       0.06      0.04      0.05        25\n",
      "          31       0.00      0.00      0.00         4\n",
      "          32       0.50      0.17      0.25         6\n",
      "          33       0.00      0.00      0.00        12\n",
      "          34       0.00      0.00      0.00        10\n",
      "          35       0.13      0.10      0.11        41\n",
      "          36       0.00      0.00      0.00        11\n",
      "          37       0.00      0.00      0.00        15\n",
      "          38       0.00      0.00      0.00        13\n",
      "          39       0.44      0.20      0.28        20\n",
      "          40       0.04      0.03      0.03        73\n",
      "          41       0.00      0.00      0.00        10\n",
      "          42       0.00      0.00      0.00        21\n",
      "          43       0.00      0.00      0.00        10\n",
      "          44       0.00      0.00      0.00        14\n",
      "          45       0.08      0.04      0.05       105\n",
      "          46       0.00      0.00      0.00        10\n",
      "          47       0.00      0.00      0.00        16\n",
      "          48       0.08      0.10      0.09        21\n",
      "          49       0.00      0.00      0.00        36\n",
      "          50       0.09      0.36      0.15       163\n",
      "          51       0.00      0.00      0.00         5\n",
      "          52       0.00      0.00      0.00        16\n",
      "          53       0.00      0.00      0.00        16\n",
      "          54       0.00      0.00      0.00        14\n",
      "          55       0.05      0.03      0.04       100\n",
      "          56       0.00      0.00      0.00         7\n",
      "          57       0.00      0.00      0.00         4\n",
      "          58       0.00      0.00      0.00        16\n",
      "          59       0.00      0.00      0.00        23\n",
      "          60       0.07      0.37      0.11       133\n",
      "          61       0.00      0.00      0.00         5\n",
      "          62       0.00      0.00      0.00        12\n",
      "          63       0.00      0.00      0.00         8\n",
      "          64       0.00      0.00      0.00         8\n",
      "          65       0.00      0.00      0.00       112\n",
      "          66       0.00      0.00      0.00         9\n",
      "          67       0.00      0.00      0.00        14\n",
      "          68       0.00      0.00      0.00        18\n",
      "          69       0.00      0.00      0.00        31\n",
      "          70       0.04      0.02      0.02       129\n",
      "          71       0.00      0.00      0.00        10\n",
      "          72       0.00      0.00      0.00         8\n",
      "          73       0.00      0.00      0.00         9\n",
      "          74       0.00      0.00      0.00         7\n",
      "          75       0.05      0.06      0.06       150\n",
      "          76       0.00      0.00      0.00         8\n",
      "          77       0.00      0.00      0.00        11\n",
      "          78       0.00      0.00      0.00        12\n",
      "          79       0.33      0.03      0.06        29\n",
      "          80       0.04      0.02      0.03       154\n",
      "          81       0.00      0.00      0.00         8\n",
      "          82       0.00      0.00      0.00         5\n",
      "          83       0.00      0.00      0.00         5\n",
      "          84       0.00      0.00      0.00         8\n",
      "          85       0.04      0.01      0.02        87\n",
      "          86       0.00      0.00      0.00         7\n",
      "          87       0.00      0.00      0.00        12\n",
      "          88       0.00      0.00      0.00        14\n",
      "          89       0.00      0.00      0.00        39\n",
      "          90       0.00      0.00      0.00        90\n",
      "          91       0.00      0.00      0.00         7\n",
      "          92       0.00      0.00      0.00         7\n",
      "          93       0.00      0.00      0.00         3\n",
      "          94       0.00      0.00      0.00        10\n",
      "          95       0.00      0.00      0.00        54\n",
      "          96       0.00      0.00      0.00         5\n",
      "          97       0.00      0.00      0.00         8\n",
      "          98       0.00      0.00      0.00        12\n",
      "          99       0.17      0.02      0.04        84\n",
      "         100       0.08      0.28      0.12       192\n",
      "         101       0.00      0.00      0.00         2\n",
      "         102       0.00      0.00      0.00         3\n",
      "         103       0.00      0.00      0.00         6\n",
      "         104       0.00      0.00      0.00         9\n",
      "         105       0.09      0.03      0.04        40\n",
      "         106       0.00      0.00      0.00         6\n",
      "         107       0.00      0.00      0.00         2\n",
      "         108       0.00      0.00      0.00         7\n",
      "         109       0.00      0.00      0.00        23\n",
      "         110       0.07      0.02      0.03        63\n",
      "         111       0.00      0.00      0.00         6\n",
      "         112       0.00      0.00      0.00         4\n",
      "         113       0.00      0.00      0.00         0\n",
      "         114       0.00      0.00      0.00         3\n",
      "         115       0.00      0.00      0.00        42\n",
      "         116       0.00      0.00      0.00         5\n",
      "         117       0.00      0.00      0.00         6\n",
      "         118       0.00      0.00      0.00         6\n",
      "         119       0.00      0.00      0.00        16\n",
      "         120       0.04      0.02      0.03       105\n",
      "         121       0.00      0.00      0.00         3\n",
      "         122       0.00      0.00      0.00         3\n",
      "         123       0.00      0.00      0.00         4\n",
      "         124       0.00      0.00      0.00         8\n",
      "         125       0.05      0.01      0.02        95\n",
      "         126       0.00      0.00      0.00         2\n",
      "         127       0.00      0.00      0.00         2\n",
      "         128       0.00      0.00      0.00         6\n",
      "         129       0.00      0.00      0.00        22\n",
      "         130       0.00      0.00      0.00        59\n",
      "         131       0.00      0.00      0.00         7\n",
      "         132       0.00      0.00      0.00         2\n",
      "         133       0.00      0.00      0.00         7\n",
      "         134       0.00      0.00      0.00         4\n",
      "         135       0.00      0.00      0.00        50\n",
      "         136       0.00      0.00      0.00         2\n",
      "         137       0.00      0.00      0.00         4\n",
      "         138       0.00      0.00      0.00         3\n",
      "         139       0.00      0.00      0.00        20\n",
      "         140       0.00      0.00      0.00        46\n",
      "         141       0.00      0.00      0.00         1\n",
      "         142       0.00      0.00      0.00         8\n",
      "         143       0.00      0.00      0.00         3\n",
      "         144       0.00      0.00      0.00         1\n",
      "         145       0.00      0.00      0.00        31\n",
      "         146       0.00      0.00      0.00         4\n",
      "         147       0.00      0.00      0.00         2\n",
      "         148       0.00      0.00      0.00         3\n",
      "         149       0.00      0.00      0.00        25\n",
      "         150       0.07      0.42      0.13       200\n",
      "         151       0.00      0.00      0.00         1\n",
      "         152       0.00      0.00      0.00         1\n",
      "         153       0.00      0.00      0.00         4\n",
      "         154       0.00      0.00      0.00         4\n",
      "         155       0.00      0.00      0.00        22\n",
      "         156       0.00      0.00      0.00         1\n",
      "         157       0.00      0.00      0.00         2\n",
      "         158       0.00      0.00      0.00         5\n",
      "         159       0.00      0.00      0.00        16\n",
      "         160       0.00      0.00      0.00        46\n",
      "         161       0.00      0.00      0.00         3\n",
      "         162       0.00      0.00      0.00         1\n",
      "         163       0.00      0.00      0.00         2\n",
      "         164       0.00      0.00      0.00         1\n",
      "         165       0.00      0.00      0.00        28\n",
      "         166       0.00      0.00      0.00         3\n",
      "         167       0.00      0.00      0.00         1\n",
      "         168       0.00      0.00      0.00         3\n",
      "         169       0.00      0.00      0.00        10\n",
      "         170       0.00      0.00      0.00        22\n",
      "         171       0.00      0.00      0.00         1\n",
      "         172       0.00      0.00      0.00         1\n",
      "         173       0.00      0.00      0.00         1\n",
      "         174       0.00      0.00      0.00         3\n",
      "         175       0.20      0.01      0.02        78\n",
      "         178       0.00      0.00      0.00         5\n",
      "         179       0.14      0.06      0.09        16\n",
      "         180       0.00      0.00      0.00        54\n",
      "         181       0.00      0.00      0.00         2\n",
      "         182       0.00      0.00      0.00         2\n",
      "         184       0.00      0.00      0.00         1\n",
      "         185       0.00      0.00      0.00        25\n",
      "         186       0.00      0.00      0.00         4\n",
      "         187       0.00      0.00      0.00         1\n",
      "         188       0.00      0.00      0.00         3\n",
      "         189       0.00      0.00      0.00        11\n",
      "         190       0.00      0.00      0.00        28\n",
      "         191       0.00      0.00      0.00         1\n",
      "         192       0.00      0.00      0.00         1\n",
      "         193       0.00      0.00      0.00         1\n",
      "         194       0.00      0.00      0.00         2\n",
      "         195       0.00      0.00      0.00        34\n",
      "         196       0.00      0.00      0.00         3\n",
      "         197       0.00      0.00      0.00         3\n",
      "         198       0.00      0.00      0.00         5\n",
      "         199       0.00      0.00      0.00        40\n",
      "         200       0.06      0.25      0.10       143\n",
      "         201       0.00      0.00      0.00         1\n",
      "         202       0.00      0.00      0.00         1\n",
      "         205       0.00      0.00      0.00         7\n",
      "         206       0.00      0.00      0.00         2\n",
      "         207       0.00      0.00      0.00         1\n",
      "         208       0.00      0.00      0.00         3\n",
      "         209       0.00      0.00      0.00         5\n",
      "         210       0.00      0.00      0.00        14\n",
      "         212       0.00      0.00      0.00         4\n",
      "         214       0.00      0.00      0.00         2\n",
      "         215       0.00      0.00      0.00        11\n",
      "         216       0.00      0.00      0.00         1\n",
      "         217       0.00      0.00      0.00         1\n",
      "         218       0.00      0.00      0.00         1\n",
      "         219       0.00      0.00      0.00         6\n",
      "         220       0.00      0.00      0.00        18\n",
      "         221       0.00      0.00      0.00         1\n",
      "         222       0.00      0.00      0.00         1\n",
      "         223       0.00      0.00      0.00         0\n",
      "         224       0.00      0.00      0.00         2\n",
      "         225       0.00      0.00      0.00        37\n",
      "         226       0.00      0.00      0.00         1\n",
      "         227       0.00      0.00      0.00         1\n",
      "         228       0.00      0.00      0.00         3\n",
      "         229       0.04      0.33      0.08         9\n",
      "         230       0.00      0.00      0.00        10\n",
      "         234       0.00      0.00      0.00         1\n",
      "         235       0.00      0.00      0.00         9\n",
      "         237       0.00      0.00      0.00         1\n",
      "         238       0.00      0.00      0.00         1\n",
      "         239       0.00      0.00      0.00        11\n",
      "         240       0.00      0.00      0.00         8\n",
      "         242       0.00      0.00      0.00         1\n",
      "         243       0.00      0.00      0.00         1\n",
      "         244       0.00      0.00      0.00         3\n",
      "         245       0.00      0.00      0.00        11\n",
      "         246       0.00      0.00      0.00         2\n",
      "         248       0.00      0.00      0.00         1\n",
      "         249       0.00      0.00      0.00        11\n",
      "         250       0.06      0.11      0.08        96\n",
      "         252       0.00      0.00      0.00         1\n",
      "         254       0.00      0.00      0.00         1\n",
      "         255       0.00      0.00      0.00         3\n",
      "         259       0.00      0.00      0.00         6\n",
      "         260       0.00      0.00      0.00         8\n",
      "         262       0.00      0.00      0.00         1\n",
      "         263       0.00      0.00      0.00         1\n",
      "         264       0.00      0.00      0.00         2\n",
      "         265       0.00      0.00      0.00         4\n",
      "         267       0.00      0.00      0.00         1\n",
      "         268       0.00      0.00      0.00         1\n",
      "         269       0.00      0.00      0.00         4\n",
      "         270       0.00      0.00      0.00         1\n",
      "         271       0.00      0.00      0.00         2\n",
      "         274       0.00      0.00      0.00         2\n",
      "         275       0.00      0.00      0.00        19\n",
      "         278       0.00      0.00      0.00         1\n",
      "         280       0.00      0.00      0.00        11\n",
      "         285       0.00      0.00      0.00         7\n",
      "         287       0.00      0.00      0.00         1\n",
      "         289       0.00      0.00      0.00         3\n",
      "         290       0.00      0.00      0.00         8\n",
      "         292       0.00      0.00      0.00         1\n",
      "         295       0.00      0.00      0.00         6\n",
      "         297       0.00      0.00      0.00         1\n",
      "         298       0.00      0.00      0.00         1\n",
      "         299       0.00      0.00      0.00        20\n",
      "         300       0.00      0.00      0.00        61\n",
      "         303       0.00      0.00      0.00         1\n",
      "         305       0.00      0.00      0.00         3\n",
      "         306       0.00      0.00      0.00         1\n",
      "         307       0.00      0.00      0.00         1\n",
      "         308       0.00      0.00      0.00         1\n",
      "         309       0.00      0.00      0.00         2\n",
      "         312       0.00      0.00      0.00         2\n",
      "         314       0.00      0.00      0.00         2\n",
      "         316       0.00      0.00      0.00         2\n",
      "         317       0.00      0.00      0.00         1\n",
      "         319       0.00      0.00      0.00         1\n",
      "         320       0.00      0.00      0.00         6\n",
      "         325       0.00      0.00      0.00         9\n",
      "         328       0.00      0.00      0.00         1\n",
      "         330       0.00      0.00      0.00         4\n",
      "         333       0.00      0.00      0.00         2\n",
      "         335       0.00      0.00      0.00         1\n",
      "         339       0.00      0.00      0.00         1\n",
      "         340       0.00      0.00      0.00         2\n",
      "         343       0.00      0.00      0.00         1\n",
      "         345       0.00      0.00      0.00         4\n",
      "         346       0.00      0.00      0.00         1\n",
      "         349       0.00      0.00      0.00         3\n",
      "         350       0.00      0.00      0.00        38\n",
      "         356       0.00      0.00      0.00         1\n",
      "         361       0.00      0.00      0.00         1\n",
      "         365       0.00      0.00      0.00         1\n",
      "         369       0.00      0.00      0.00         3\n",
      "         375       0.00      0.00      0.00        13\n",
      "         377       0.00      0.00      0.00         1\n",
      "         379       0.00      0.00      0.00         2\n",
      "         380       0.00      0.00      0.00         3\n",
      "         385       0.00      0.00      0.00         2\n",
      "         387       0.00      0.00      0.00         1\n",
      "         388       0.00      0.00      0.00         1\n",
      "         389       0.00      0.00      0.00         2\n",
      "         390       0.00      0.00      0.00         1\n",
      "         392       0.00      0.00      0.00         1\n",
      "         395       0.00      0.00      0.00         4\n",
      "         398       0.00      0.00      0.00         1\n",
      "         399       0.00      0.00      0.00         6\n",
      "         400       0.00      0.00      0.00        19\n",
      "         409       0.00      0.00      0.00         1\n",
      "         414       0.00      0.00      0.00         1\n",
      "         415       0.00      0.00      0.00         1\n",
      "         416       0.00      0.00      0.00         1\n",
      "         420       0.00      0.00      0.00         2\n",
      "         425       0.00      0.00      0.00         6\n",
      "         438       0.00      0.00      0.00         1\n",
      "         440       0.00      0.00      0.00         1\n",
      "         450       0.00      0.00      0.00        13\n",
      "         453       0.00      0.00      0.00         1\n",
      "         455       0.00      0.00      0.00         1\n",
      "         465       0.00      0.00      0.00         1\n",
      "         470       0.00      0.00      0.00         1\n",
      "         475       0.00      0.00      0.00         1\n",
      "         479       0.00      0.00      0.00         1\n",
      "         480       0.00      0.00      0.00         2\n",
      "         485       0.00      0.00      0.00         1\n",
      "         488       0.00      0.00      0.00         1\n",
      "         490       0.00      0.00      0.00         1\n",
      "         495       0.00      0.00      0.00         3\n",
      "         499       0.00      0.00      0.00        12\n",
      "         500       0.07      0.04      0.05        28\n",
      "         509       0.00      0.00      0.00         1\n",
      "         510       0.00      0.00      0.00         1\n",
      "         525       0.00      0.00      0.00         1\n",
      "         539       0.00      0.00      0.00         1\n",
      "         549       0.00      0.00      0.00         1\n",
      "         550       0.00      0.00      0.00         7\n",
      "         575       0.00      0.00      0.00         2\n",
      "         580       0.00      0.00      0.00         1\n",
      "         583       0.00      0.00      0.00         1\n",
      "         590       0.00      0.00      0.00         3\n",
      "         599       0.00      0.00      0.00         2\n",
      "         600       0.00      0.00      0.00        16\n",
      "         620       0.00      0.00      0.00         1\n",
      "         625       0.00      0.00      0.00         1\n",
      "         650       0.00      0.00      0.00         7\n",
      "         659       0.00      0.00      0.00         1\n",
      "         675       0.00      0.00      0.00         1\n",
      "         689       0.00      0.00      0.00         1\n",
      "         690       0.00      0.00      0.00         1\n",
      "         699       0.00      0.00      0.00         3\n",
      "         700       0.00      0.00      0.00         3\n",
      "         714       0.00      0.00      0.00         2\n",
      "         737       0.00      0.00      0.00         1\n",
      "         745       0.00      0.00      0.00         2\n",
      "         748       0.00      0.00      0.00         1\n",
      "         749       0.00      0.00      0.00         1\n",
      "         750       0.00      0.00      0.00         7\n",
      "         800       0.00      0.00      0.00         4\n",
      "         805       0.00      0.00      0.00         1\n",
      "         814       0.00      0.00      0.00         1\n",
      "         830       0.00      0.00      0.00         1\n",
      "         850       0.00      0.00      0.00         2\n",
      "         875       0.00      0.00      0.00         1\n",
      "         899       0.00      0.00      0.00         1\n",
      "         900       0.00      0.00      0.00         2\n",
      "         930       0.00      0.00      0.00         1\n",
      "         935       0.00      0.00      0.00         1\n",
      "         945       0.00      0.00      0.00         1\n",
      "         949       0.00      0.00      0.00         1\n",
      "         950       0.00      0.00      0.00         2\n",
      "         974       0.00      0.00      0.00         1\n",
      "         980       0.00      0.00      0.00         1\n",
      "         985       0.00      0.00      0.00         1\n",
      "         990       0.00      0.00      0.00         1\n",
      "         995       0.00      0.00      0.00         1\n",
      "         999       0.00      0.00      0.00         2\n",
      "        1000       0.00      0.00      0.00         6\n",
      "        1080       0.00      0.00      0.00         1\n",
      "        1100       0.00      0.00      0.00         1\n",
      "        1115       0.00      0.00      0.00         1\n",
      "        1150       0.00      0.00      0.00         1\n",
      "        1177       0.00      0.00      0.00         1\n",
      "        1200       0.00      0.00      0.00         3\n",
      "        1250       0.00      0.00      0.00         1\n",
      "        1306       0.00      0.00      0.00         1\n",
      "        1400       0.00      0.00      0.00         1\n",
      "        1485       0.00      0.00      0.00         1\n",
      "        1500       0.00      0.00      0.00         5\n",
      "        1700       0.00      0.00      0.00         1\n",
      "        1750       0.00      0.00      0.00         1\n",
      "        2000       0.00      0.00      0.00         3\n",
      "        2200       0.00      0.00      0.00         1\n",
      "        2250       0.00      0.00      0.00         2\n",
      "        2500       0.00      0.00      0.00         3\n",
      "        2600       0.00      0.00      0.00         1\n",
      "        3613       0.00      0.00      0.00         1\n",
      "        3800       0.00      0.00      0.00         1\n",
      "        4000       0.00      0.00      0.00         1\n",
      "        4100       0.00      0.00      0.00         1\n",
      "        5250       0.00      0.00      0.00         1\n",
      "\n",
      "    accuracy                           0.07      4888\n",
      "   macro avg       0.01      0.01      0.01      4888\n",
      "weighted avg       0.04      0.07      0.04      4888\n",
      "\n",
      "Feature importances:\n",
      "\troom_type: 0.24\n",
      "\tneighbourhood_group: 0.07\n",
      "\tneighbourhood: 0.69\n"
     ]
    }
   ],
   "source": [
    "random_forest(df)"
   ]
  },
  {
   "cell_type": "markdown",
   "metadata": {},
   "source": [
    "#### Predicting which categories have most influence on the price using a Random Forest Model\n",
    "\n",
    "The accuracy in a random forest model reflects how many predictions were correct, dividing the number of correct predictions by the total number of predictions. \n",
    "\n",
    "Running the random forest model using the price as the target value results in a very inaccurrate model with an accuracy of only 7%. \n",
    "\n",
    "The output furthermore provides values about the model's precision showcasing how many positive prediction were incorrect (true positives/true positives and false positives) and a recall value representing how many negative predictions were incorrect (true positives/true positives and false negatives). In order to make interpretations of such models easier, the f1 score provides a combination of the the precision and recall value. \n",
    "\n",
    "Predicting the specific price of a rental object has led to various f1 scores being 0 making the model very inaccurate and unprecise in its predictions. \n",
    "\n",
    "Since the price of a rental property is a quantitative value, and the random forest model works best using categorical data, it might be useful to transform the price into categories and predict price ranges/categories rather than the exact price of a property. \n",
    "\n",
    "I will therefore aim to divide the price into different categories, excpecting increased accurracy in the random forest model."
   ]
  },
  {
   "cell_type": "code",
   "execution_count": 47,
   "metadata": {},
   "outputs": [
    {
     "data": {
      "text/plain": [
       "<AxesSubplot:ylabel='Frequency'>"
      ]
     },
     "execution_count": 47,
     "metadata": {},
     "output_type": "execute_result"
    },
    {
     "data": {
      "image/png": "[encoded data removed]",
      "text/plain": [
       "<Figure size 432x288 with 1 Axes>"
      ]
     },
     "metadata": {
      "needs_background": "light"
     },
     "output_type": "display_data"
    }
   ],
   "source": [
    "df[\"price\"].plot.hist()"
   ]
  },
  {
   "cell_type": "markdown",
   "metadata": {},
   "source": [
    "#### Dividing the price data into three price range categories\n",
    "As described in the visualization and further data exploration section, most housing prices are below 2000. Judging from the histogram showcasing the price frequency, the large majority of the rental properties lie between 0 and 500. Assuming that the values reflect US dollar values, I will devide the price category data into three major categories judging from my experience with rental prices in New York City (which are among the highest rental prices in the US): I consider rental objects below 150 US dollars per night to be in the lower price category, rental objects between 150 US dollars and 500 US dollars in the middle price range and all rentals outside the majority price range of 0-500 US dollars to be in the higher price range.  "
   ]
  },
  {
   "cell_type": "code",
   "execution_count": 48,
   "metadata": {},
   "outputs": [
    {
     "name": "stdout",
     "output_type": "stream",
     "text": [
      "0        1\n",
      "1        3\n",
      "2        3\n",
      "3        1\n",
      "4        1\n",
      "        ..\n",
      "48890    1\n",
      "48891    1\n",
      "48892    1\n",
      "48893    1\n",
      "48894    1\n",
      "Name: price_category, Length: 48874, dtype: int64\n"
     ]
    }
   ],
   "source": [
    "def convert_to_price_category(x):\n",
    "        if x < 150:\n",
    "            return 1\n",
    "        elif x > 500:\n",
    "            return 2\n",
    "        else:\n",
    "            return 3\n",
    "\n",
    "df[\"price_category\"] = df[\"price\"].map(convert_to_price_category)\n",
    "print(df[\"price_category\"])"
   ]
  },
  {
   "cell_type": "code",
   "execution_count": 55,
   "metadata": {},
   "outputs": [
    {
     "data": {
      "text/plain": [
       "array([31908, 15940,  1026])"
      ]
     },
     "execution_count": 55,
     "metadata": {},
     "output_type": "execute_result"
    }
   ],
   "source": [
    "# Check distribution of number of properties in each price category\n",
    "df[\"price_category\"].value_counts().unique()"
   ]
  },
  {
   "cell_type": "markdown",
   "metadata": {},
   "source": [
    "#### Predicting the price range using the three categorical variables room_type, neighbourhood_group and neighbourhood"
   ]
  },
  {
   "cell_type": "code",
   "execution_count": 50,
   "metadata": {},
   "outputs": [],
   "source": [
    "def random_forest(dataframe):\n",
    "    rng = np.random.RandomState(0)\n",
    "    input_features = [\"room_type\", \"neighbourhood_group\", \"neighbourhood\"]\n",
    "    X_train, X_test, y_train, y_test = split_data(dataframe, input_features, \"price_category\")\n",
    "    model = sklearn.ensemble.RandomForestClassifier(random_state=rng)\n",
    "    model.fit(X_train, y_train)\n",
    "    preds = model.predict(X_test)\n",
    "    test_report = sklearn.metrics.classification_report(y_test, preds)\n",
    "    print(test_report)\n",
    "    feature_importances = \"\\n\\t\".join(f\"{feature}: {importance:.2f}\" for feature, importance in zip(input_features, model.feature_importances_))\n",
    "    print(f\"Feature importances:\\n\\t{feature_importances}\")"
   ]
  },
  {
   "cell_type": "code",
   "execution_count": 51,
   "metadata": {},
   "outputs": [
    {
     "name": "stdout",
     "output_type": "stream",
     "text": [
      "              precision    recall  f1-score   support\n",
      "\n",
      "           1       0.84      0.87      0.86      3195\n",
      "           2       0.00      0.00      0.00       136\n",
      "           3       0.68      0.68      0.68      1557\n",
      "\n",
      "    accuracy                           0.79      4888\n",
      "   macro avg       0.51      0.52      0.51      4888\n",
      "weighted avg       0.77      0.79      0.78      4888\n",
      "\n",
      "Feature importances:\n",
      "\troom_type: 0.64\n",
      "\tneighbourhood_group: 0.14\n",
      "\tneighbourhood: 0.21\n"
     ]
    }
   ],
   "source": [
    "random_forest(df)"
   ]
  },
  {
   "cell_type": "markdown",
   "metadata": {},
   "source": [
    "As expected, predicting price ranges using the Random Forest Model achieves a much higher model accuracy of 79%. Furthermore, the f1 score for the lower and higher price categories is much higher with a 86% and 68% making the model much better at predicting the price category as the previous model. However, the f1 score for the middle price range still reflects 0. \n",
    "As expected, the feature importances values also show that the type of rooms/apartment have the lagest influence on the pricing. It is suprising that specific neighbourhoods seem to have a larger influence on the price category than the overall city district. "
   ]
  },
  {
   "cell_type": "markdown",
   "metadata": {},
   "source": [
    "#### Predicting the price range using the multiple variables, not only categorical data\n",
    "In the following model, I will use not only the categorical data to predict the price category, but also reviews_per_month, minimum_nights, the latitude and longitude, hoping that adding this data will lead to a more accurate random forest model."
   ]
  },
  {
   "cell_type": "code",
   "execution_count": 56,
   "metadata": {},
   "outputs": [],
   "source": [
    "def random_forest(dataframe):\n",
    "    rng = np.random.RandomState(0)\n",
    "    input_features = [\"room_type\", \"neighbourhood_group\", \"neighbourhood\", \"reviews_per_month\", \"minimum_nights\", \"latitude\", \"longitude\"]\n",
    "    X_train, X_test, y_train, y_test = split_data(dataframe, input_features, \"price_category\")\n",
    "    model = sklearn.ensemble.RandomForestClassifier(random_state=rng)\n",
    "    model.fit(X_train, y_train)\n",
    "    preds = model.predict(X_test)\n",
    "    test_report = sklearn.metrics.classification_report(y_test, preds)\n",
    "    print(test_report)\n",
    "    feature_importances = \"\\n\\t\".join(f\"{feature}: {importance:.2f}\" for feature, importance in zip(input_features, model.feature_importances_))\n",
    "    print(f\"Feature importances:\\n\\t{feature_importances}\")"
   ]
  },
  {
   "cell_type": "code",
   "execution_count": 53,
   "metadata": {},
   "outputs": [
    {
     "name": "stdout",
     "output_type": "stream",
     "text": [
      "              precision    recall  f1-score   support\n",
      "\n",
      "           1       0.85      0.87      0.86      3195\n",
      "           2       0.48      0.08      0.14       136\n",
      "           3       0.68      0.69      0.69      1557\n",
      "\n",
      "    accuracy                           0.79      4888\n",
      "   macro avg       0.67      0.55      0.56      4888\n",
      "weighted avg       0.79      0.79      0.79      4888\n",
      "\n",
      "Feature importances:\n",
      "\troom_type: 0.22\n",
      "\tneighbourhood_group: 0.02\n",
      "\tneighbourhood: 0.05\n",
      "\treviews_per_month: 0.14\n",
      "\tminimum_nights: 0.07\n",
      "\tlatitude: 0.23\n",
      "\tlongitude: 0.27\n"
     ]
    }
   ],
   "source": [
    "random_forest(df)"
   ]
  },
  {
   "cell_type": "markdown",
   "metadata": {},
   "source": [
    "Adding the remaining quantity variables has clearly improved the model's accuracy slightly. The overall accuracy has stayed the same at 79%, but the macro and weighted average have increased slightly. Furthermore, the f1 score on predicting the middle price range has risen from 0% to 14 % making the predictions slightly more accurate. \n",
    "\n",
    "However, one needs to take into account that this model will only predict a price range rather than a specific price for a rental property. This information might therefore not be as useful to hosts or landlords than an exact price. "
   ]
  },
  {
   "cell_type": "markdown",
   "metadata": {},
   "source": [
    "## Conclusion\n",
    "\n",
    "I have initially stated the research question asking which factors have the highest influence on the price of a rental object. This question is useful in order to build an accurate prediction model which can predict the rental price based on other metrics which could prove useful to hosts and landords who are seeking to determine the price for their rental properties. \n",
    "\n",
    "Throughout the analysis, I have built several linear regression models which turned out to be rather inaccurate suggesting that there was a rather low influence of the tested variables on the price of a rental object. I have then built multiple random forest models taking categorical data into account which turned out to have much better predictions. The type of room and location (room_type, neighbourhood group, neighbourhood and longitude and latitude) turned out to be correlated the highest with rental price which validated my expectation. \n",
    "\n",
    "Although the random forest model was much more accurate, it needs to be taken into account that it does not predict a specific price, but rather a price range which might be less valuable information for hosts/landlords. However, a valuable learning is furthermore that taking more variables into account in order to predict the price has led to more accurate predictions suggesting that the pricing for rentals is dynamic and based on various factors, and not just one. "
   ]
  },
  {
   "cell_type": "markdown",
   "metadata": {},
   "source": [
    "### Limitations and reflections\n",
    "\n",
    "A large limitation to my analysis is certainly my limited knowledge about prediction models. Throughout the Data Intelligence course we were only introduced to two different machine leaning models: linear regression models and the random forest model. Knowing about other models could have potentially enabled me to build a much more accurate prediction model. \n",
    "\n",
    "Another limitation I would like to point out is the fact that there is always some kind of bias and assumptions built into the algorithmic models. One assumption I have, for example, built into my prediction model is that rental properties below 150 US dollars per night belong to a lower price range while properties above 500 US dollars belong to a higher price range. If I was familiar with the standard prices and price ranges in New York City, my model would certainly have turned out differenly leading to different predictions and accuracies.\n",
    "\n",
    "Furthermore, the amount and type of variables can be considered a limitation to my model. I was able to include the room type and location into the models which proved to have a rather high correlation with rental prices. However, I assume that taking other variables such as apartment size, age of the property, whether it is furnished or not or newly renovated or in need of renovation etc. into account could lead to a much more accurate prediction model.\n",
    "\n",
    "I would also like to point out that handling missing data, and especially removing outliers might have unintended consequences. Barocas, Hardt & Narayanan (2020) argue that \n",
    "\"the messiness of the real world isn’t just an annoyance to be dealt with by cleaning, it is instead a manifestation of the limitations of data-driven techniques.\". It is thus important to consider that, although cleaning the data often leads to better prediction results, it might, to some extent, alter the representation of the real world potentially excluding minority groups.  \n",
    "\n",
    "Lastly, it is important to look out for algorithmic and statistical bias and the unintended enactment of existing presumptions creating inequalities. Barocas, Hardt & Narayanan (2020) argue that \"The fact that machine learning is “evidence-based” by no means ensures that it will lead to accurate, reliable, or fair decisions.\". Algorithmic data often has an influence on the real world in that it enacts realities by influencing people's decision making. Choosing rental prices using a prediction model will rather replicate past dynamics since the predictions are based on historical data not allowing new ways of pricing apartments. It might also leave out important metrics or variables which are not taken into account in the model. It has often been mentioned that rent price fluctuations have significant effects on the population, determining who is able to afford an apartment in a specific location or not. It is therefore crucial to make sure that such influences are taken into account when intoducing such a model in the real world."
   ]
  },
  {
   "cell_type": "markdown",
   "metadata": {},
   "source": [
    "## References\n",
    "\n",
    "Barocas, S., Hardt, M. and Narayanan, A. (2020) Fairness and machine learning. Chapter 1: Introduction.\n",
    "\n",
    "Grant, R. (2019) Data Visualization - Charts, Maps, and Interactive Graphics. Taylor & Francis Group, LLC.\n",
    "\n",
    "Rowntree, D. (1981) Statistics Without Tears - A Primer for Non-mathematicians. Charles Scribner's Sons, New York. "
   ]
  }
 ],
 "metadata": {
  "kernelspec": {
   "display_name": "Python 3 (ipykernel)",
   "language": "python",
   "name": "python3"
  },
  "language_info": {
   "codemirror_mode": {
    "name": "ipython",
    "version": 3
   },
   "file_extension": ".py",
   "mimetype": "text/x-python",
   "name": "python",
   "nbconvert_exporter": "python",
   "pygments_lexer": "ipython3",
   "version": "3.9.0"
  }
 },
 "nbformat": 4,
 "nbformat_minor": 4
}
